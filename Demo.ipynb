{
 "cells": [
  {
   "cell_type": "markdown",
   "metadata": {},
   "source": [
    "# Demonstration notebook for the Pulse of the City project.\n",
    "\n",
    "In this notebook, you will find examples of how to run the scripts and obtain results from the pedestrian traffic prediction, as well as the spatial interpolation and visualisation systems."
   ]
  },
  {
   "cell_type": "markdown",
   "metadata": {},
   "source": [
    "** Index: **\n",
    "1. [Part 1: Predicting pedestrian traffic](#Part-1:-Predicting-pedestrian-traffic)\n",
    "2. [Part 2: Spatial interpolation and visualisation](#Part-2:-Spatial-interpolation-and-visualisation)"
   ]
  },
  {
   "cell_type": "markdown",
   "metadata": {},
   "source": [
    "---\n",
    "# Part 1: Predicting pedestrian traffic\n",
    "An example of getting predictions from the prediction module and making use of them."
   ]
  },
  {
   "cell_type": "markdown",
   "metadata": {},
   "source": [
    "Import and initialise the predictor object."
   ]
  },
  {
   "cell_type": "code",
   "execution_count": 1,
   "metadata": {},
   "outputs": [],
   "source": [
    "# Import the predictor class into your workspace\n",
    "import Predictor\n",
    "# Initialise the predictor object\n",
    "predictor = Predictor.Predictor()"
   ]
  },
  {
   "cell_type": "markdown",
   "metadata": {},
   "source": [
    "Generate predictions for a certain timeframe\n",
    "- Make sure the date-time string is in `yyyy-mm-ddTHH:MM:SS` format.\n",
    "- First and second parameters define the start and the end of the requested time frame (start included, end excluded from the interval)."
   ]
  },
  {
   "cell_type": "code",
   "execution_count": 2,
   "metadata": {},
   "outputs": [
    {
     "name": "stdout",
     "output_type": "stream",
     "text": [
      "Generating predictions...\n",
      "[--------------------------------------------------                                                  ] 50%\r",
      "[----------------------------------------------------------------------------------------------------] Done!\n"
     ]
    }
   ],
   "source": [
    "# Generate the predictions for a specific time frame\n",
    "predictions = predictor.predict_timeframe(\"2020-01-11T12:00:00\", \"2020-01-11T14:00:00\")"
   ]
  },
  {
   "cell_type": "code",
   "execution_count": 3,
   "metadata": {
    "scrolled": true
   },
   "outputs": [
    {
     "name": "stdout",
     "output_type": "stream",
     "text": [
      "              Datetime  Plein 1944 primark:West_low  \\\n",
      "0  2020-01-11 12:00:00                          601   \n",
      "0  2020-01-11 13:00:00                          533   \n",
      "\n",
      "   Plein 1944 primark:West_mid  Plein 1944 primark:West_high  \\\n",
      "0                         1123                          1646   \n",
      "0                         1033                          1532   \n",
      "\n",
      "   Hezelstraat:Hezelstraat_low  Hezelstraat:Hezelstraat_mid  \\\n",
      "0                          982                         1285   \n",
      "0                          997                         1337   \n",
      "\n",
      "   Hezelstraat:Hezelstraat_high  Kruidvat Burchtstraat:East_low  \\\n",
      "0                          1588                              81   \n",
      "0                          1677                             182   \n",
      "\n",
      "   Kruidvat Burchtstraat:East_mid  Kruidvat Burchtstraat:East_high  \\\n",
      "0                             336                              591   \n",
      "0                             389                              597   \n",
      "\n",
      "                   ...                   Hertogstraat:Hertogstraat_high  \\\n",
      "0                  ...                                               89   \n",
      "0                  ...                                               86   \n",
      "\n",
      "   Hertogstraat:Crosswalk_low  Hertogstraat:Crosswalk_mid  \\\n",
      "0                          51                          73   \n",
      "0                          63                          84   \n",
      "\n",
      "   Hertogstraat:Crosswalk_high  Trap waalkade Lindenberg:Balcony_low  \\\n",
      "0                           96                                     0   \n",
      "0                          105                                    19   \n",
      "\n",
      "   Trap waalkade Lindenberg:Balcony_mid  \\\n",
      "0                                    46   \n",
      "0                                    49   \n",
      "\n",
      "   Trap waalkade Lindenberg:Balcony_high  Trap waalkade Lindenberg:Stairs_low  \\\n",
      "0                                     95                                    0   \n",
      "0                                     78                                  186   \n",
      "\n",
      "   Trap waalkade Lindenberg:Stairs_mid  Trap waalkade Lindenberg:Stairs_high  \n",
      "0                                  394                                   797  \n",
      "0                                  447                                   707  \n",
      "\n",
      "[2 rows x 127 columns]\n"
     ]
    }
   ],
   "source": [
    "print(predictions)"
   ]
  },
  {
   "cell_type": "markdown",
   "metadata": {},
   "source": [
    "##### NOTE: these predictions are stored as a pandas dataframe, \n",
    "So, you can use all of the included functionality with it, such as saving it to a `.csv` file with `predictions.to_csv(\"<filename>.csv\")`"
   ]
  },
  {
   "cell_type": "markdown",
   "metadata": {},
   "source": [
    "---\n",
    "As you can see, not passing the optional `request_ids` parameter results in predictions for all modelled locations.\n",
    "\n",
    "If you only want to generate predictions for a certain location, you can do the following:"
   ]
  },
  {
   "cell_type": "code",
   "execution_count": 4,
   "metadata": {
    "scrolled": true
   },
   "outputs": [
    {
     "name": "stdout",
     "output_type": "stream",
     "text": [
      "0                               Plein 1944 primark:West\n",
      "1                               Hezelstraat:Hezelstraat\n",
      "2                            Kruidvat Burchtstraat:East\n",
      "3                  Molenpoort Ziekerstraat:Koningsplein\n",
      "4                    Busstation bij bord bustijden:Area\n",
      "5         Busstation op hoek richting perrons:Commuters\n",
      "6     Burgemeester Hustinxstraat:Burgemeester Hustin...\n",
      "7     Busstation oversteek stationsplein-Burgemeeste...\n",
      "8                       Stationsplein:Keizer Karelplein\n",
      "9           Stationsplein gele oversteekplaats:Crossing\n",
      "10                          Smetiusstraat:Smetiusstraat\n",
      "11                          Kop Molenstraat:Molenstraat\n",
      "12           Coef Van Welderenstraat:Van Welderenstraat\n",
      "13                   Molenpoort Molenstraat:Molenstraat\n",
      "14           Plein 1944 fietsenkelder:Pedestrians-South\n",
      "15                     Prikkels Houtstraat:Ganzenheuvel\n",
      "16                      Ziekerstraat Coeff:Ziekerstraat\n",
      "17                     Koningsplein Dedicated:Plein1944\n",
      "18              Van Broeckhuysenstraat Faber:Mariënburg\n",
      "19                                  Stationsplein:North\n",
      "20                                  Stationsplein:South\n",
      "21                              Smetiusstraat:Tunnelweg\n",
      "22                                 Hezelstraat:Parkside\n",
      "23                Prikkels Houtstraat:Lange Hezelstraat\n",
      "24               Prikkels Houtstraat:Stikke Hezelstraat\n",
      "25                       Prikkels Houtstraat:Houtstraat\n",
      "26              Coef Van Welderenstraat:Eilbrachtstraat\n",
      "27                            Plein 1944 primark:Square\n",
      "28                              Plein 1944 primark:East\n",
      "29                  Ziekerstraat Coeff:Tweede Walstraat\n",
      "30                   Molenpoort Ziekerstraat:Mariënburg\n",
      "31                        Molenpoort Ziekerstraat:South\n",
      "32                  Koningsplein Dedicated:Ziekerstraat\n",
      "33                  Koningsplein Dedicated:Koningsplein\n",
      "34                    Van Broeckhuysenstraat Faber:East\n",
      "35                    Van Broeckhuysenstraat Faber:West\n",
      "36                           Kruidvat Burchtstraat:West\n",
      "37                  Kruidvat Burchtstraat:Marikenstraat\n",
      "38                            Hertogstraat:Hertogstraat\n",
      "39                               Hertogstraat:Crosswalk\n",
      "40                     Trap waalkade Lindenberg:Balcony\n",
      "41                      Trap waalkade Lindenberg:Stairs\n",
      "Name: Name, dtype: object\n"
     ]
    }
   ],
   "source": [
    "# Print the list of modelled locations with their IDs\n",
    "Predictor.dump_names()"
   ]
  },
  {
   "cell_type": "code",
   "execution_count": 5,
   "metadata": {},
   "outputs": [
    {
     "name": "stdout",
     "output_type": "stream",
     "text": [
      "Generating predictions...\n",
      "[--------------------------------------------------                                                  ] 50%\r",
      "[----------------------------------------------------------------------------------------------------] Done!\n"
     ]
    }
   ],
   "source": [
    "# Find the ID(s) of location(s) you wish to predict for and include a list of them for the `request_ids` parameter.\n",
    "ids = [0, 11, 17]\n",
    "predictions_specific = predictor.predict_timeframe(\"2020-01-11T12:00:00\", \"2020-01-11T14:00:00\", ids)\n",
    "# NOTE: even if you are predicting for one location, you will need to pass it as an array (e.g. [5])."
   ]
  },
  {
   "cell_type": "code",
   "execution_count": 6,
   "metadata": {
    "scrolled": true
   },
   "outputs": [
    {
     "name": "stdout",
     "output_type": "stream",
     "text": [
      "              Datetime  Plein 1944 primark:West_low  \\\n",
      "0  2020-01-11 12:00:00                          601   \n",
      "0  2020-01-11 13:00:00                          533   \n",
      "\n",
      "   Plein 1944 primark:West_mid  Plein 1944 primark:West_high  \\\n",
      "0                         1123                          1646   \n",
      "0                         1033                          1532   \n",
      "\n",
      "   Kop Molenstraat:Molenstraat_low  Kop Molenstraat:Molenstraat_mid  \\\n",
      "0                             1330                             1703   \n",
      "0                             1260                             1654   \n",
      "\n",
      "   Kop Molenstraat:Molenstraat_high  Koningsplein Dedicated:Plein1944_low  \\\n",
      "0                              2077                                  1287   \n",
      "0                              2047                                  1484   \n",
      "\n",
      "   Koningsplein Dedicated:Plein1944_mid  Koningsplein Dedicated:Plein1944_high  \n",
      "0                                  1550                                   1814  \n",
      "0                                  1736                                   1987  \n"
     ]
    }
   ],
   "source": [
    "print(predictions_specific)"
   ]
  },
  {
   "cell_type": "markdown",
   "metadata": {},
   "source": [
    "---\n",
    "As you may have noticed, the prediction dataframe contains 3 columns for each location: `low`, `mid` and `high`. These colums represent the prediction **together with the limits of the confidence interval**:\n",
    "\n",
    "- `low` is the lower bound of the confidence interval,\n",
    "- `mid` is the prediction itself,\n",
    "- `high` is the higher bound of the confidence interval.\n",
    "\n",
    "If you do not need the confidence interval for your purpose, you can also pass an optional parameter `ci` as `False`:"
   ]
  },
  {
   "cell_type": "code",
   "execution_count": 7,
   "metadata": {},
   "outputs": [
    {
     "name": "stdout",
     "output_type": "stream",
     "text": [
      "Generating predictions...\n",
      "[--------------------------------------------------                                                  ] 50%\r",
      "[----------------------------------------------------------------------------------------------------] Done!\n"
     ]
    }
   ],
   "source": [
    "predictions_no_ci = predictor.predict_timeframe(\"2020-01-11T12:00:00\", \"2020-01-11T14:00:00\", [8, 11], ci=False)"
   ]
  },
  {
   "cell_type": "code",
   "execution_count": 8,
   "metadata": {
    "scrolled": true
   },
   "outputs": [
    {
     "name": "stdout",
     "output_type": "stream",
     "text": [
      "              Datetime  Stationsplein:Keizer Karelplein  \\\n",
      "0  2020-01-11 12:00:00                              233   \n",
      "0  2020-01-11 13:00:00                              218   \n",
      "\n",
      "   Kop Molenstraat:Molenstraat  \n",
      "0                         1703  \n",
      "0                         1654  \n"
     ]
    }
   ],
   "source": [
    "print(predictions_no_ci)"
   ]
  },
  {
   "cell_type": "markdown",
   "metadata": {},
   "source": [
    "\n",
    "---\n",
    "\n",
    "To access the predicted values directly, convert the dataframe into an array, by doing the following:"
   ]
  },
  {
   "cell_type": "code",
   "execution_count": 9,
   "metadata": {},
   "outputs": [],
   "source": [
    "pred_values = predictions_no_ci.values[:, 1:] # the '[:, 1:]' picks all rows with all but the 1st (date-time) column."
   ]
  },
  {
   "cell_type": "markdown",
   "metadata": {},
   "source": [
    "Then you can use standard python indexing to access any element(s) in the array:"
   ]
  },
  {
   "cell_type": "code",
   "execution_count": 10,
   "metadata": {},
   "outputs": [
    {
     "name": "stdout",
     "output_type": "stream",
     "text": [
      "1703\n",
      "[233 1703]\n",
      "[1703 1654]\n"
     ]
    }
   ],
   "source": [
    "print(pred_values[0, 1]) # First row, second column\n",
    "print(pred_values[0])    # First row, all columns   \n",
    "print(pred_values[:, 1]) # All rows, second column"
   ]
  },
  {
   "cell_type": "markdown",
   "metadata": {},
   "source": [
    "**If you are using the confidence interval**, to parse the predictions, do the following:"
   ]
  },
  {
   "cell_type": "code",
   "execution_count": 11,
   "metadata": {
    "scrolled": true
   },
   "outputs": [
    {
     "name": "stdout",
     "output_type": "stream",
     "text": [
      "Generating predictions...\n",
      "[--------                                                                                            ] 8%\r",
      "[----------------                                                                                    ] 16%\r",
      "[-------------------------                                                                           ] 25%\r",
      "[---------------------------------                                                                   ] 33%\r",
      "[-----------------------------------------                                                           ] 41%\r",
      "[--------------------------------------------------                                                  ] 50%\r",
      "[----------------------------------------------------------                                          ] 58%\r",
      "[------------------------------------------------------------------                                  ] 66%\r",
      "[---------------------------------------------------------------------------                         ] 75%\r",
      "[-----------------------------------------------------------------------------------                 ] 83%\r",
      "[-------------------------------------------------------------------------------------------         ] 91%\r",
      "[----------------------------------------------------------------------------------------------------] Done!\n",
      "              Datetime  Plein 1944 primark:West_low  \\\n",
      "0  2020-01-11 09:00:00                          549   \n",
      "0  2020-01-11 10:00:00                          761   \n",
      "0  2020-01-11 11:00:00                          739   \n",
      "0  2020-01-11 12:00:00                          601   \n",
      "0  2020-01-11 13:00:00                          533   \n",
      "0  2020-01-11 14:00:00                          632   \n",
      "0  2020-01-11 15:00:00                          704   \n",
      "0  2020-01-11 16:00:00                          472   \n",
      "0  2020-01-11 17:00:00                          272   \n",
      "0  2020-01-11 18:00:00                          189   \n",
      "0  2020-01-11 19:00:00                           90   \n",
      "0  2020-01-11 20:00:00                           75   \n",
      "\n",
      "   Plein 1944 primark:West_mid  Plein 1944 primark:West_high  \\\n",
      "0                          897                          1244   \n",
      "0                         1181                          1601   \n",
      "0                         1202                          1665   \n",
      "0                         1123                          1646   \n",
      "0                         1033                          1532   \n",
      "0                         1092                          1553   \n",
      "0                         1107                          1510   \n",
      "0                          836                          1199   \n",
      "0                          503                           733   \n",
      "0                          348                           507   \n",
      "0                          304                           518   \n",
      "0                          248                           421   \n",
      "\n",
      "   Kop Molenstraat:Molenstraat_low  Kop Molenstraat:Molenstraat_mid  \\\n",
      "0                              500                              839   \n",
      "0                              838                             1159   \n",
      "0                             1120                             1477   \n",
      "0                             1330                             1703   \n",
      "0                             1260                             1654   \n",
      "0                             1097                             1543   \n",
      "0                              919                             1357   \n",
      "0                              634                             1038   \n",
      "0                              428                              769   \n",
      "0                              340                              624   \n",
      "0                              262                              476   \n",
      "0                              182                              338   \n",
      "\n",
      "   Kop Molenstraat:Molenstraat_high  \n",
      "0                              1178  \n",
      "0                              1480  \n",
      "0                              1834  \n",
      "0                              2077  \n",
      "0                              2047  \n",
      "0                              1989  \n",
      "0                              1795  \n",
      "0                              1442  \n",
      "0                              1110  \n",
      "0                               907  \n",
      "0                               691  \n",
      "0                               493  \n"
     ]
    }
   ],
   "source": [
    "# (setting up a new prediction dataframe for demonstration)\n",
    "predictions = predictor.predict_timeframe(\"2020-01-11T09:00:00\", \"2020-01-11T21:00:00\", [0, 11])\n",
    "print(predictions)"
   ]
  },
  {
   "cell_type": "code",
   "execution_count": 12,
   "metadata": {
    "scrolled": true
   },
   "outputs": [
    {
     "name": "stdout",
     "output_type": "stream",
     "text": [
      "Predictions: \n",
      "[[897 839]\n",
      " [1181 1159]\n",
      " [1202 1477]\n",
      " [1123 1703]\n",
      " [1033 1654]\n",
      " [1092 1543]\n",
      " [1107 1357]\n",
      " [836 1038]\n",
      " [503 769]\n",
      " [348 624]\n",
      " [304 476]\n",
      " [248 338]]\n",
      "Highs: \n",
      "[[1244 1178]\n",
      " [1601 1480]\n",
      " [1665 1834]\n",
      " [1646 2077]\n",
      " [1532 2047]\n",
      " [1553 1989]\n",
      " [1510 1795]\n",
      " [1199 1442]\n",
      " [733 1110]\n",
      " [507 907]\n",
      " [518 691]\n",
      " [421 493]]\n",
      "Lows: \n",
      "[[549 500]\n",
      " [761 838]\n",
      " [739 1120]\n",
      " [601 1330]\n",
      " [533 1260]\n",
      " [632 1097]\n",
      " [704 919]\n",
      " [472 634]\n",
      " [272 428]\n",
      " [189 340]\n",
      " [90 262]\n",
      " [75 182]]\n"
     ]
    }
   ],
   "source": [
    "# Get the IDs of columns that contain the different components of the predictions:\n",
    "dataframe_ids = Predictor.get_prediction_ids(predictions)\n",
    "\n",
    "# This matrix contains indices for each type of prediction (low, mid, high).\n",
    "\n",
    "# First row is lower bound IDs:\n",
    "low_ids = dataframe_ids[0]\n",
    "\n",
    "# Second row is the actual prediction IDs:\n",
    "pred_ids = dataframe_ids[1]\n",
    "\n",
    "# Third row is the upper bound IDs:\n",
    "high_ids = dataframe_ids[2]\n",
    "\n",
    "# Now, to get the actual values, just convert the dataframe into an array:\n",
    "dataframe_values = predictions.values\n",
    "# Here, we do not remove the date-time column, as that will be taken care of by the IDs.\n",
    "\n",
    "# And now you can access whichever values you wish:\n",
    "# To get only the actual predictions:\n",
    "prediction_values = dataframe_values[:, pred_ids] # NOTE: 1st index is the time index, ':' takes all rows.\n",
    "print(\"Predictions: \\n\" + str(prediction_values))\n",
    "\n",
    "# Works the same way with lower or upper bounds:\n",
    "high_values = dataframe_values[:, high_ids]\n",
    "low_values = dataframe_values[:, low_ids]\n",
    "print(\"Highs: \\n\" + str(high_values))\n",
    "print(\"Lows: \\n\" + str(low_values))"
   ]
  },
  {
   "cell_type": "markdown",
   "metadata": {},
   "source": [
    "## Now you can use these values for anything you like!"
   ]
  },
  {
   "cell_type": "markdown",
   "metadata": {},
   "source": [
    "### Example: plotting the curve"
   ]
  },
  {
   "cell_type": "code",
   "execution_count": 14,
   "metadata": {},
   "outputs": [
    {
     "data": {
      "image/png": "[encoded data removed]",
      "text/plain": [
       "<Figure size 1080x504 with 1 Axes>"
      ]
     },
     "metadata": {},
     "output_type": "display_data"
    }
   ],
   "source": [
    "# import the plotting library\n",
    "from matplotlib import pyplot as plt\n",
    "\n",
    "# Create a new figure\n",
    "plt.figure(figsize = (15, 7))\n",
    "plt.title(\"Pedestrian count prediction\")\n",
    "\n",
    "# Plot the prediction curves:\n",
    "# 1st column in the prediction values stores predictions for location 0 - Plein 1944 primark:West\n",
    "plt.plot(prediction_values[:, 0], label = \"Plein 1944 primark:West\")\n",
    "# 2nd column is for location 11 - Kop Molenstraat:Molenstraat\n",
    "plt.plot(prediction_values[:, 1], label = \"Kop Molenstraat:Molenstraat\")\n",
    "\n",
    "# Add the confidence interval as a coloured area between lows and highs:\n",
    "# For Plein 1944 primark:West:\n",
    "plt.fill_between(\n",
    "    range(12),                # X axis indices for the area - in this case, we fill the whole range of 12 predictions\n",
    "    list(low_values[:, 0]),   # Lower bound of the area to fill\n",
    "    list(high_values[:, 0]),  # Higher bound of the area to fill\n",
    "    alpha = 0.1               # Making the area transparent.\n",
    ")\n",
    "# For Kop Molenstraat:Molenstraat:\n",
    "plt.fill_between(\n",
    "    range(12),\n",
    "    list(low_values[:, 1]),\n",
    "    list(high_values[:, 1]),\n",
    "    alpha = 0.1\n",
    ")\n",
    "\n",
    "# You can use the date-time column values as x tick labels\n",
    "plt.xticks(range(12), predictions.values[:, 0], rotation=20)\n",
    "\n",
    "# Set the name of axes\n",
    "plt.xlabel(\"Time\")\n",
    "plt.ylabel(\"Predicted pedestrian count\")\n",
    "\n",
    "# Add a legend\n",
    "plt.legend()\n",
    "\n",
    "# Show the figure\n",
    "plt.show()"
   ]
  },
  {
   "cell_type": "markdown",
   "metadata": {},
   "source": [
    "---\n",
    "# Part 2: Spatial interpolation and visualisation\n",
    "\n",
    "An example of using the spatial interpolation module of the project."
   ]
  },
  {
   "cell_type": "markdown",
   "metadata": {},
   "source": [
    "Import and initialise the interpolator object"
   ]
  },
  {
   "cell_type": "code",
   "execution_count": 15,
   "metadata": {},
   "outputs": [],
   "source": [
    "# Import the interpolator class into your workspace\n",
    "import Interpolator\n",
    "\n",
    "# Initialise the interpolator object.\n",
    "# The parameter of the initialisation determines the resolution scale of the interpolation\n",
    "# 1.0 - 100% - 1600x950\n",
    "# 0.5 - 50%  - 800x475, etc.\n",
    "interpolator = Interpolator.Interpolator(1.0)"
   ]
  },
  {
   "cell_type": "markdown",
   "metadata": {},
   "source": [
    "Now, you can either:\n",
    "1. Interpolate a prediction for a certain date and hour:"
   ]
  },
  {
   "cell_type": "code",
   "execution_count": 16,
   "metadata": {},
   "outputs": [
    {
     "name": "stdout",
     "output_type": "stream",
     "text": [
      "Generating predictions...\n",
      "[----------------------------------------------------------------------------------------------------] Done!\n",
      "Building the interpolated map...\n",
      "[----------------------------------------------------------------------------------------------------] Done!\n"
     ]
    }
   ],
   "source": [
    "# The resulting image is saved in Images/Interpolation.png by default\n",
    "# if you would like to change the name of the resulting image, pass an optional parameter 'filename' with the chosen name:\n",
    "interpolator.interpolate_predict(\"2020-01-15T13:00:00\", filename=\"Demo1\")"
   ]
  },
  {
   "cell_type": "markdown",
   "metadata": {},
   "source": [
    "Or\n",
    "2. Interpolate your own array of data from the 42 locations (e.g. actual observations, pulled from the Numina API)."
   ]
  },
  {
   "cell_type": "code",
   "execution_count": 17,
   "metadata": {},
   "outputs": [
    {
     "name": "stdout",
     "output_type": "stream",
     "text": [
      "Building the interpolated map...\n",
      "[----------------------------------------------------------------------------------------------------] Done!\n"
     ]
    }
   ],
   "source": [
    "# For demonstration purposes, array of 42 random values will be interpolated:\n",
    "\n",
    "# Generate 42 random values with numpy's random library\n",
    "import numpy as np\n",
    "values = np.random.uniform(0, 2500, 42)\n",
    "\n",
    "# Interpolate these values and visualise them on the map:\n",
    "interpolator.interpolate_data(values, filename=\"Demo2\")"
   ]
  },
  {
   "cell_type": "markdown",
   "metadata": {},
   "source": [
    "## Thank you for using my project and good luck!"
   ]
  },
  {
   "cell_type": "markdown",
   "metadata": {},
   "source": [
    "**Made by:** *Domantas Giržadas, 2020*"
   ]
  }
 ],
 "metadata": {
  "kernelspec": {
   "display_name": "Python 3",
   "language": "python",
   "name": "python3"
  },
  "language_info": {
   "codemirror_mode": {
    "name": "ipython",
    "version": 3
   },
   "file_extension": ".py",
   "mimetype": "text/x-python",
   "name": "python",
   "nbconvert_exporter": "python",
   "pygments_lexer": "ipython3",
   "version": "3.6.5"
  }
 },
 "nbformat": 4,
 "nbformat_minor": 2
}
